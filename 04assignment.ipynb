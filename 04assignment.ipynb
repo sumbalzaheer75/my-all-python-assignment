{
 "cells": [
  {
   "cell_type": "code",
   "execution_count": 4,
   "metadata": {},
   "outputs": [
    {
     "name": "stdout",
     "output_type": "stream",
     "text": [
      "enter your guess8\n",
      "you have guessed too low\n",
      "enter your guess12\n",
      "tou have guessed too high\n",
      "enter your guess10\n",
      "congratulations you have guessed correctly\n"
     ]
    }
   ],
   "source": [
    "import random\n",
    "correct = random.randrange(1, 30)\n",
    "guess = int(input(\"enter your guess\"))\n",
    "while guess != correct :\n",
    "    if guess < correct :\n",
    "        print(\"you have guessed too low\")\n",
    "    else :\n",
    "        print(\"tou have guessed too high\")\n",
    "    guess = int(input(\"enter your guess\"))\n",
    "print(\"congratulations you have guessed correctly\")"
   ]
  },
  {
   "cell_type": "code",
   "execution_count": 15,
   "metadata": {},
   "outputs": [
    {
     "name": "stdout",
     "output_type": "stream",
     "text": [
      "{'first_name': 'sumbal', 'last_name': 'zaheer', 'age': 22, 'city': 'karachi'}\n",
      "{'first_name': 'sumbal', 'last_name': 'zaheer', 'age': 22, 'city': 'karachi', 'qualification': 'intermediate'}\n",
      "{'first_name': 'sumbal', 'last_name': 'zaheer', 'age': 22, 'city': 'karachi', 'qualification': 'gaduation'}\n",
      "{'first_name': 'sumbal', 'last_name': 'zaheer', 'age': 22, 'city': 'karachi'}\n"
     ]
    }
   ],
   "source": [
    "mydict = {\"first_name\" : 'sumbal', \"last_name\" : 'zaheer', \"age\" : 22, \"city\" : 'karachi'}\n",
    "print(mydict)\n",
    "mydict[\"qualification\"] = \"intermediate\"\n",
    "print(mydict)\n",
    "mydict.update( qualification = 'gaduation')\n",
    "print(mydict)\n",
    "del mydict[\"qualification\"]\n",
    "print(mydict)"
   ]
  },
  {
   "cell_type": "code",
   "execution_count": 3,
   "metadata": {},
   "outputs": [
    {
     "name": "stdout",
     "output_type": "stream",
     "text": [
      "my favorite book is alice in wonderland\n"
     ]
    }
   ],
   "source": [
    "def my(title) :\n",
    "    print(\"my favorite book is\", title)\n",
    "my(\"alice in wonderland\")"
   ]
  },
  {
   "cell_type": "code",
   "execution_count": null,
   "metadata": {},
   "outputs": [],
   "source": []
  }
 ],
 "metadata": {
  "kernelspec": {
   "display_name": "Python 3",
   "language": "python",
   "name": "python3"
  },
  "language_info": {
   "codemirror_mode": {
    "name": "ipython",
    "version": 3
   },
   "file_extension": ".py",
   "mimetype": "text/x-python",
   "name": "python",
   "nbconvert_exporter": "python",
   "pygments_lexer": "ipython3",
   "version": "3.7.4"
  }
 },
 "nbformat": 4,
 "nbformat_minor": 2
}
