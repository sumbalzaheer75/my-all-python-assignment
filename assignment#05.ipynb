{
 "cells": [
  {
   "cell_type": "code",
   "execution_count": 2,
   "metadata": {},
   "outputs": [
    {
     "name": "stdout",
     "output_type": "stream",
     "text": [
      "input a number to compute factorial  :  5\n",
      "120\n"
     ]
    }
   ],
   "source": [
    "def factorial(n) :\n",
    "    if n == 0 :\n",
    "        return 1\n",
    "    else :\n",
    "        return n * factorial(n-1)\n",
    "n = int(input(\"input a number to compute factorial  :  \"))\n",
    "print(factorial(n))"
   ]
  },
  {
   "cell_type": "code",
   "execution_count": 4,
   "metadata": {},
   "outputs": [
    {
     "name": "stdout",
     "output_type": "stream",
     "text": [
      "original string   My Name is Sumbal Zaheer\n",
      "number of upper case characters   4\n",
      "number of lower case characters   16\n"
     ]
    }
   ],
   "source": [
    "def string(s) :\n",
    "    d={\"UPPER_CASE\":0, \"LOWER_CASE\":0}\n",
    "    for c in s :\n",
    "        if c.isupper() :\n",
    "            d[\"UPPER_CASE\"]+=1\n",
    "        elif c.islower():\n",
    "            d[\"LOWER_CASE\"]+=1\n",
    "        else :\n",
    "            pass\n",
    "    print(\"original string  \", s)\n",
    "    print(\"number of upper case characters  \", d[\"UPPER_CASE\"])\n",
    "    print(\"number of lower case characters  \", d[\"LOWER_CASE\"])\n",
    "string(\"My Name is Sumbal Zaheer\")"
   ]
  },
  {
   "cell_type": "code",
   "execution_count": 19,
   "metadata": {},
   "outputs": [
    {
     "name": "stdout",
     "output_type": "stream",
     "text": [
      "True\n"
     ]
    }
   ],
   "source": [
    "def palindrome(string):\n",
    "    left = 0\n",
    "    right = len(string) - 1\n",
    "    \n",
    "    while right >= left :\n",
    "        if not string[left] == string[right] :\n",
    "            return False\n",
    "        left += 1\n",
    "        right -= 1\n",
    "    return True\n",
    "print(palindrome('madam'))\n",
    "        "
   ]
  },
  {
   "cell_type": "code",
   "execution_count": 24,
   "metadata": {},
   "outputs": [
    {
     "name": "stdout",
     "output_type": "stream",
     "text": [
      "[2, 4, 6, 8, 12]\n"
     ]
    }
   ],
   "source": [
    "def even(arr) :\n",
    "    even_num = []\n",
    "    for n in arr :\n",
    "        if n % 2 == 0 :\n",
    "            even_num.append(n)\n",
    "    return even_num\n",
    "print(even([1,2,3,4,5,6,7,8,9,11,12]))"
   ]
  },
  {
   "cell_type": "code",
   "execution_count": 27,
   "metadata": {},
   "outputs": [
    {
     "name": "stdout",
     "output_type": "stream",
     "text": [
      "True\n"
     ]
    }
   ],
   "source": [
    "def prime(n) :\n",
    "    if (n==1) :\n",
    "        return False\n",
    "    elif (n==2) :\n",
    "        return True;\n",
    "    else :\n",
    "        for x in range(2,n) :\n",
    "            if (n % x==0) :\n",
    "                return False\n",
    "        return True\n",
    "print(prime(13))"
   ]
  },
  {
   "cell_type": "code",
   "execution_count": 2,
   "metadata": {},
   "outputs": [
    {
     "name": "stdout",
     "output_type": "stream",
     "text": [
      "('butter', 'bread', 'jam', 'juice', 'milk')\n"
     ]
    }
   ],
   "source": [
    "def shopping_list(*items) :\n",
    "    for item in items :\n",
    "        print(items)\n",
    "        break\n",
    "shopping_list(\"butter\", \"bread\", \"jam\", \"juice\", \"milk\")"
   ]
  },
  {
   "cell_type": "code",
   "execution_count": null,
   "metadata": {},
   "outputs": [],
   "source": []
  }
 ],
 "metadata": {
  "kernelspec": {
   "display_name": "Python 3",
   "language": "python",
   "name": "python3"
  },
  "language_info": {
   "codemirror_mode": {
    "name": "ipython",
    "version": 3
   },
   "file_extension": ".py",
   "mimetype": "text/x-python",
   "name": "python",
   "nbconvert_exporter": "python",
   "pygments_lexer": "ipython3",
   "version": "3.7.4"
  }
 },
 "nbformat": 4,
 "nbformat_minor": 2
}
