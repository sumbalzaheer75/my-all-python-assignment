{
 "cells": [
  {
   "cell_type": "code",
   "execution_count": 1,
   "metadata": {},
   "outputs": [
    {
     "name": "stdout",
     "output_type": "stream",
     "text": [
      "how old are you?\n",
      "enter 'quit' when you are finished  13\n",
      "your ticket cost is $15 \n",
      "how old are you?\n",
      "enter 'quit' when you are finished  12\n",
      "your ticket cost is $15 \n",
      "how old are you?\n",
      "enter 'quit' when you are finished  11\n",
      "your ticket cost is $10 \n",
      "how old are you?\n",
      "enter 'quit' when you are finished  3\n",
      "your ticket cost is $15 \n",
      "how old are you?\n",
      "enter 'quit' when you are finished  2\n",
      "you get in free \n",
      "how old are you?\n",
      "enter 'quit' when you are finished  quit\n"
     ]
    }
   ],
   "source": [
    "prompt = \"how old are you?\"\n",
    "prompt += \"\\nenter 'quit' when you are finished  \"\n",
    "while True :\n",
    "    age = input(prompt)\n",
    "    if age == 'quit' :\n",
    "        break\n",
    "    age = int(age)\n",
    "    if age < 3 :\n",
    "        print(\"you get in free \")\n",
    "    elif age > 3 and age < 12 :\n",
    "        print(\"your ticket cost is $10 \")\n",
    "    else :\n",
    "        print(\"your ticket cost is $15 \")\n",
    "        "
   ]
  },
  {
   "cell_type": "code",
   "execution_count": 2,
   "metadata": {},
   "outputs": [
    {
     "name": "stdout",
     "output_type": "stream",
     "text": [
      "one of my favorite book is Alice in Wonderland\n"
     ]
    }
   ],
   "source": [
    "def favorite_book(title) :\n",
    "    print(\"one of my favorite book is\", title)\n",
    "title = \"Alice in Wonderland\"\n",
    "favorite_book(title)"
   ]
  },
  {
   "cell_type": "code",
   "execution_count": 3,
   "metadata": {},
   "outputs": [
    {
     "name": "stdout",
     "output_type": "stream",
     "text": [
      "{'first_name': 'sumbal', 'last_name': 'zaheer', 'age': 22, 'city': 'karachi'}\n",
      "{'first_name': 'sumbal', 'last_name': 'zaheer', 'age': 22, 'city': 'karachi', 'qualification': 'intermediate'}\n",
      "{'first_name': 'sumbal', 'last_name': 'zaheer', 'age': 22, 'city': 'karachi', 'qualification': 'gaduation'}\n",
      "{'first_name': 'sumbal', 'last_name': 'zaheer', 'age': 22, 'city': 'karachi'}\n"
     ]
    }
   ],
   "source": [
    "mydict = {\"first_name\" : 'sumbal', \"last_name\" : 'zaheer', \"age\" : 22, \"city\" : 'karachi'}\n",
    "print(mydict)\n",
    "mydict[\"qualification\"] = \"intermediate\"\n",
    "print(mydict)\n",
    "mydict.update( qualification = 'gaduation')\n",
    "print(mydict)\n",
    "del mydict[\"qualification\"]\n",
    "print(mydict)"
   ]
  },
  {
   "cell_type": "code",
   "execution_count": 4,
   "metadata": {},
   "outputs": [
    {
     "name": "stdout",
     "output_type": "stream",
     "text": [
      "enter your guess3\n",
      "you have guessed too low\n",
      "enter your guess8\n",
      "you have guessed too low\n",
      "enter your guess15\n",
      "you have guessed too low\n",
      "enter your guess25\n",
      "congratulations you have guessed correctly\n"
     ]
    }
   ],
   "source": [
    "import random\n",
    "correct = random.randrange(1, 30)\n",
    "guess = int(input(\"enter your guess\"))\n",
    "for i in range(3) :\n",
    "    if guess < correct :\n",
    "        print(\"you have guessed too low\")\n",
    "    else :\n",
    "        print(\"tou have guessed too high\")\n",
    "    guess = int(input(\"enter your guess\"))\n",
    "print(\"congratulations you have guessed correctly\")"
   ]
  },
  {
   "cell_type": "code",
   "execution_count": 6,
   "metadata": {},
   "outputs": [
    {
     "name": "stdout",
     "output_type": "stream",
     "text": [
      "{'Karachi': {'country': 'Pakistan', 'population': '14.91 million', 'fact': \"the city is Pakistan's premier industrial and financial centre\"}, 'Paris': {'country': 'France', 'population': '2.141 million', 'fact': 'more than 25 million tourist visits Paris annually'}, 'Rome': {'country': 'Italy', 'population': '2.873 million', 'fact': 'Rome was built on seven hills'}}\n",
      "{'country': 'Pakistan', 'population': '14.91 million', 'fact': \"the city is Pakistan's premier industrial and financial centre\"}\n",
      "{'country': 'France', 'population': '2.141 million', 'fact': 'more than 25 million tourist visits Paris annually'}\n",
      "{'country': 'Italy', 'population': '2.873 million', 'fact': 'Rome was built on seven hills'}\n"
     ]
    }
   ],
   "source": [
    "cities = {\n",
    "    \"Karachi\" : {\n",
    "        \"country\" : \"Pakistan\",\n",
    "        \"population\" : \"14.91 million\",\n",
    "        \"fact\" : \"the city is Pakistan's premier industrial and financial centre\"\n",
    "    },\n",
    "    \"Paris\" : {\n",
    "        \"country\" : \"France\",\n",
    "        \"population\" : \"2.141 million\",\n",
    "        \"fact\" : \"more than 25 million tourist visits Paris annually\"\n",
    "    },\n",
    "    \"Rome\" : {\n",
    "        \"country\" : \"Italy\",\n",
    "        \"population\" : \"2.873 million\",\n",
    "        \"fact\" : \"Rome was built on seven hills\"\n",
    "        \n",
    "    }\n",
    "}\n",
    "print(cities)\n",
    "print(cities[\"Karachi\"])\n",
    "print(cities[\"Paris\"])\n",
    "print(cities[\"Rome\"])"
   ]
  },
  {
   "cell_type": "code",
   "execution_count": null,
   "metadata": {},
   "outputs": [],
   "source": []
  }
 ],
 "metadata": {
  "kernelspec": {
   "display_name": "Python 3",
   "language": "python",
   "name": "python3"
  },
  "language_info": {
   "codemirror_mode": {
    "name": "ipython",
    "version": 3
   },
   "file_extension": ".py",
   "mimetype": "text/x-python",
   "name": "python",
   "nbconvert_exporter": "python",
   "pygments_lexer": "ipython3",
   "version": "3.7.4"
  }
 },
 "nbformat": 4,
 "nbformat_minor": 2
}
