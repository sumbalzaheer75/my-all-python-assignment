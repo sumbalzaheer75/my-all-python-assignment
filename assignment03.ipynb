{
 "cells": [
  {
   "cell_type": "code",
   "execution_count": 9,
   "metadata": {},
   "outputs": [
    {
     "name": "stdout",
     "output_type": "stream",
     "text": [
      "enter first vakue = 2\n",
      "enter second value = 2\n",
      "enter operator **\n",
      "4 answer\n"
     ]
    }
   ],
   "source": [
    "v1 = int(input(\"enter first vakue = \"))\n",
    "v2 = int(input(\"enter second value = \"))\n",
    "opt = input(\"enter operator \")\n",
    "if opt == '+' :\n",
    "    v = v1 + v2\n",
    "    print(v,\"answer\")\n",
    "elif opt == '-' :\n",
    "    v = v1 - v2 \n",
    "    print(v,\"answer\")\n",
    "elif opt == '*' :\n",
    "    v = v1 *v2\n",
    "    print(v,\"answer\")\n",
    "elif opt == '/' :\n",
    "    v = v1 / v2\n",
    "    print(v,\"answer\")\n",
    "elif opt == '**' :\n",
    "    v = v1 ** v2\n",
    "    print(v,\"answer\")\n",
    "else :\n",
    "    print(\"enter correct operator\")"
   ]
  },
  {
   "cell_type": "code",
   "execution_count": 11,
   "metadata": {},
   "outputs": [
    {
     "name": "stdout",
     "output_type": "stream",
     "text": [
      "numeric value is : 2\n",
      "numeric value is : 4\n",
      "numeric value is : 7\n"
     ]
    }
   ],
   "source": [
    "arr = ['sumbal', 2, 4, 'zaheer', 7]\n",
    "for num in arr :\n",
    "    if type(num) == int or type(num) == float :\n",
    "        print(f\"numeric value is : {num}\")\n",
    "        "
   ]
  },
  {
   "cell_type": "code",
   "execution_count": 23,
   "metadata": {},
   "outputs": [
    {
     "name": "stdout",
     "output_type": "stream",
     "text": [
      "sum is =  600\n"
     ]
    }
   ],
   "source": [
    "my_dictionary = {'a' : 100, 'b' : 200, 'c' : 300}\n",
    "sum_value = sum(my_dictionary.values())\n",
    "print(\"sum is = \", sum_value)"
   ]
  },
  {
   "cell_type": "code",
   "execution_count": 24,
   "metadata": {},
   "outputs": [
    {
     "name": "stdout",
     "output_type": "stream",
     "text": [
      "{'a': 2, 'b': 4, 'c': 'Sumbal', 'd': 'Zaheer'}\n"
     ]
    }
   ],
   "source": [
    "my_dictionary = {'a' : 2, 'b' : 4, 'c' : 'Sumbal'}\n",
    "my_dictionary['d'] = 'Zaheer'\n",
    "print(my_dictionary)"
   ]
  },
  {
   "cell_type": "code",
   "execution_count": 27,
   "metadata": {},
   "outputs": [
    {
     "name": "stdout",
     "output_type": "stream",
     "text": [
      "key is present\n",
      "key is not present\n"
     ]
    }
   ],
   "source": [
    "d = {1 : 10, 2 : 20, 3 : 30, 4 : 40}\n",
    "def is_key_present(x) :\n",
    "    if x in d :\n",
    "        print(\"key is present\")\n",
    "    else :\n",
    "        print(\"key is not present\")\n",
    "is_key_present(3)\n",
    "is_key_present(7)"
   ]
  },
  {
   "cell_type": "code",
   "execution_count": 28,
   "metadata": {},
   "outputs": [
    {
     "name": "stdout",
     "output_type": "stream",
     "text": [
      "[3, 9, 12]\n"
     ]
    }
   ],
   "source": [
    "lst = [3, 6, 9, 12, 3, 30, 15, 9, 45, 36, 12, 12]\n",
    "dupItems = []\n",
    "uniqItems = {}\n",
    "for x in lst :\n",
    "    if x not in uniqItems :\n",
    "        uniqItems[x] = 1\n",
    "    else :\n",
    "        if uniqItems[x] == 1 :\n",
    "            dupItems.append(x)\n",
    "        uniqItems[x] +=1\n",
    "print(dupItems)\n",
    "        "
   ]
  },
  {
   "cell_type": "code",
   "execution_count": null,
   "metadata": {},
   "outputs": [],
   "source": []
  },
  {
   "cell_type": "code",
   "execution_count": null,
   "metadata": {},
   "outputs": [],
   "source": []
  }
 ],
 "metadata": {
  "kernelspec": {
   "display_name": "Python 3",
   "language": "python",
   "name": "python3"
  },
  "language_info": {
   "codemirror_mode": {
    "name": "ipython",
    "version": 3
   },
   "file_extension": ".py",
   "mimetype": "text/x-python",
   "name": "python",
   "nbconvert_exporter": "python",
   "pygments_lexer": "ipython3",
   "version": "3.7.4"
  }
 },
 "nbformat": 4,
 "nbformat_minor": 2
}
